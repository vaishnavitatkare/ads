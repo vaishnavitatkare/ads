{
 "cells": [
  {
   "cell_type": "code",
   "execution_count": 12,
   "id": "34091ab6-69e9-4de6-b223-ac5dd21bcb6e",
   "metadata": {},
   "outputs": [],
   "source": [
    "import pandas as pd"
   ]
  },
  {
   "cell_type": "code",
   "execution_count": 13,
   "id": "f26fb483-1734-4e5a-a2c3-20e2b6014ee5",
   "metadata": {},
   "outputs": [],
   "source": [
    "import numpy as np\n"
   ]
  },
  {
   "cell_type": "code",
   "execution_count": 14,
   "id": "ae070086-d974-42c2-8a50-939e0de3b30b",
   "metadata": {},
   "outputs": [],
   "source": [
    " df=pd.read_csv(\"exp1_bmi.csv\")"
   ]
  },
  {
   "cell_type": "code",
   "execution_count": 15,
   "id": "de7c8b98-d3f6-4d5e-b811-1f02a7ed1faf",
   "metadata": {},
   "outputs": [
    {
     "data": {
      "text/html": [
       "<div>\n",
       "<style scoped>\n",
       "    .dataframe tbody tr th:only-of-type {\n",
       "        vertical-align: middle;\n",
       "    }\n",
       "\n",
       "    .dataframe tbody tr th {\n",
       "        vertical-align: top;\n",
       "    }\n",
       "\n",
       "    .dataframe thead th {\n",
       "        text-align: right;\n",
       "    }\n",
       "</style>\n",
       "<table border=\"1\" class=\"dataframe\">\n",
       "  <thead>\n",
       "    <tr style=\"text-align: right;\">\n",
       "      <th></th>\n",
       "      <th>Gender</th>\n",
       "      <th>Height</th>\n",
       "      <th>Weight</th>\n",
       "      <th>bmi</th>\n",
       "      <th>Age</th>\n",
       "    </tr>\n",
       "  </thead>\n",
       "  <tbody>\n",
       "    <tr>\n",
       "      <th>0</th>\n",
       "      <td>Male</td>\n",
       "      <td>174</td>\n",
       "      <td>80</td>\n",
       "      <td>26.4</td>\n",
       "      <td>25</td>\n",
       "    </tr>\n",
       "    <tr>\n",
       "      <th>1</th>\n",
       "      <td>Male</td>\n",
       "      <td>189</td>\n",
       "      <td>87</td>\n",
       "      <td>24.4</td>\n",
       "      <td>27</td>\n",
       "    </tr>\n",
       "    <tr>\n",
       "      <th>2</th>\n",
       "      <td>Female</td>\n",
       "      <td>185</td>\n",
       "      <td>80</td>\n",
       "      <td>23.4</td>\n",
       "      <td>30</td>\n",
       "    </tr>\n",
       "    <tr>\n",
       "      <th>3</th>\n",
       "      <td>Female</td>\n",
       "      <td>165</td>\n",
       "      <td>70</td>\n",
       "      <td>25.7</td>\n",
       "      <td>26</td>\n",
       "    </tr>\n",
       "    <tr>\n",
       "      <th>4</th>\n",
       "      <td>Male</td>\n",
       "      <td>149</td>\n",
       "      <td>61</td>\n",
       "      <td>27.5</td>\n",
       "      <td>28</td>\n",
       "    </tr>\n",
       "    <tr>\n",
       "      <th>5</th>\n",
       "      <td>Male</td>\n",
       "      <td>177</td>\n",
       "      <td>70</td>\n",
       "      <td>22.3</td>\n",
       "      <td>29</td>\n",
       "    </tr>\n",
       "    <tr>\n",
       "      <th>6</th>\n",
       "      <td>Female</td>\n",
       "      <td>147</td>\n",
       "      <td>65</td>\n",
       "      <td>30.1</td>\n",
       "      <td>31</td>\n",
       "    </tr>\n",
       "    <tr>\n",
       "      <th>7</th>\n",
       "      <td>Male</td>\n",
       "      <td>154</td>\n",
       "      <td>62</td>\n",
       "      <td>26.1</td>\n",
       "      <td>32</td>\n",
       "    </tr>\n",
       "    <tr>\n",
       "      <th>8</th>\n",
       "      <td>Male</td>\n",
       "      <td>174</td>\n",
       "      <td>90</td>\n",
       "      <td>29.7</td>\n",
       "      <td>27</td>\n",
       "    </tr>\n",
       "  </tbody>\n",
       "</table>\n",
       "</div>"
      ],
      "text/plain": [
       "   Gender  Height  Weight   bmi  Age\n",
       "0    Male     174      80  26.4   25\n",
       "1    Male     189      87  24.4   27\n",
       "2  Female     185      80  23.4   30\n",
       "3  Female     165      70  25.7   26\n",
       "4    Male     149      61  27.5   28\n",
       "5    Male     177      70  22.3   29\n",
       "6  Female     147      65  30.1   31\n",
       "7    Male     154      62  26.1   32\n",
       "8    Male     174      90  29.7   27"
      ]
     },
     "execution_count": 15,
     "metadata": {},
     "output_type": "execute_result"
    }
   ],
   "source": [
    "df"
   ]
  },
  {
   "cell_type": "code",
   "execution_count": 25,
   "id": "f6908d21-8872-49bf-ba76-18d04ef6b192",
   "metadata": {},
   "outputs": [
    {
     "name": "stdout",
     "output_type": "stream",
     "text": [
      "Descriptive Statistics:\n",
      "1. Measure of Central Tendency:\n",
      "   Mean:\n",
      "Height    168.222222\n",
      "Weight     73.888889\n",
      "bmi        26.177778\n",
      "Age        28.333333\n",
      "dtype: float64\n",
      "\n",
      "   Median:\n",
      "Height    174.0\n",
      "Weight     70.0\n",
      "bmi        26.1\n",
      "Age        28.0\n",
      "dtype: float64\n",
      "\n",
      "   Mode:\n",
      "Height    174.0\n",
      "Weight     70.0\n",
      "bmi        22.3\n",
      "Age        27.0\n",
      "Name: 0, dtype: float64\n"
     ]
    }
   ],
   "source": [
    " print(\"Descriptive Statistics:\")\n",
    " print(\"1. Measure of Central Tendency:\")\n",
    " print(\"   Mean:\")\n",
    " print(df.mean(numeric_only=True))  # Exclude non-numeric columns\n",
    " print(\"\\n   Median:\")\n",
    " print(df.median(numeric_only=True))  # Exclude non-numeric columns\n",
    " print(\"\\n   Mode:\")\n",
    " print(df.mode(numeric_only=True).iloc[0])  # Exclude non-numeric columns"
   ]
  },
  {
   "cell_type": "code",
   "execution_count": 17,
   "id": "39c9a4b9-294b-41e7-9f8a-b46c00df74dd",
   "metadata": {},
   "outputs": [
    {
     "name": "stdout",
     "output_type": "stream",
     "text": [
      "\n",
      "2. Measure of Spread/Dispersion:\n",
      "   Variance:\n",
      "Height    236.194444\n",
      "Weight    115.361111\n",
      "bmi         6.966944\n",
      "Age         5.500000\n",
      "dtype: float64\n",
      "\n",
      "   Standard Deviation:\n",
      "Height    15.368619\n",
      "Weight    10.740629\n",
      "bmi        2.639497\n",
      "Age        2.345208\n",
      "dtype: float64\n",
      "\n",
      "   Range:\n",
      "Height    42.0\n",
      "Weight    29.0\n",
      "bmi        7.8\n",
      "Age        7.0\n",
      "dtype: float64\n"
     ]
    }
   ],
   "source": [
    " print(\"\\n2. Measure of Spread/Dispersion:\")\n",
    " print(\"   Variance:\")\n",
    " print(df.var(numeric_only=True))  # Exclude non-numeric columns\n",
    " print(\"\\n   Standard Deviation:\")\n",
    " print(df.std(numeric_only=True))  # Exclude non-numeric columns\n",
    " print(\"\\n   Range:\")\n",
    " numeric_columns = df.select_dtypes(include=['number']).columns\n",
    " print(df[numeric_columns].max() - df[numeric_columns].min())\n",
    " "
   ]
  },
  {
   "cell_type": "code",
   "execution_count": 20,
   "id": "c76176b9-e9dd-4bb0-833b-97f7ef0a1e1c",
   "metadata": {},
   "outputs": [
    {
     "name": "stdout",
     "output_type": "stream",
     "text": [
      "\n",
      "   Interquartile Range (IQR):\n",
      "Height    23.0\n",
      "Weight    15.0\n",
      "bmi        3.1\n",
      "Age        3.0\n",
      "dtype: float64\n",
      "\n",
      "   Boxplot:\n",
      "\n",
      "3. Measure of Shape:\n",
      "   Skewness:\n",
      "Height   -0.213215\n",
      "Weight    0.291925\n",
      "bmi       0.182533\n",
      "Age       0.232583\n",
      "dtype: float64\n",
      "\n",
      "   Kurtosis:\n",
      "Height   -1.430503\n",
      "Weight   -1.472015\n",
      "bmi      -0.767407\n",
      "Age      -1.041322\n",
      "dtype: float64\n"
     ]
    }
   ],
   "source": [
    " print(\"\\n   Interquartile Range (IQR):\")\n",
    " print(df[numeric_columns].quantile(0.75) \n",
    " df[numeric_columns].quantile(0.25))\n",
    " print(\"\\n   Boxplot:\")\n",
    " df[numeric_columns].boxplot()\n",
    " print(\"\\n3. Measure of Shape:\")\n",
    " print(\"   Skewness:\")\n",
    " print(df.skew(numeric_only=True))  # Exclude non-numeric columns\n",
    " print(\"\\n   Kurtosis:\")\n",
    " print(df.kurtosis(numeric_only=True))"
   ]
  },
  {
   "cell_type": "code",
   "execution_count": 22,
   "id": "a4d3554c-8297-4199-9db5-740ac7f3f957",
   "metadata": {},
   "outputs": [
    {
     "name": "stdout",
     "output_type": "stream",
     "text": [
      "\n",
      "   Boxplot:\n",
      "\n",
      "3. Measure of Shape:\n",
      "   Skewness:\n",
      "Height   -0.213215\n",
      "Weight    0.291925\n",
      "bmi       0.182533\n",
      "Age       0.232583\n",
      "dtype: float64\n",
      "\n",
      "   Kurtosis:\n",
      "Height   -1.430503\n",
      "Weight   -1.472015\n",
      "bmi      -0.767407\n",
      "Age      -1.041322\n",
      "dtype: float64\n"
     ]
    },
    {
     "data": {
      "image/png": "[encoded data removed]",
      "text/plain": [
       "<Figure size 640x480 with 1 Axes>"
      ]
     },
     "metadata": {},
     "output_type": "display_data"
    }
   ],
   "source": [
    " print(\"\\n   Boxplot:\")\n",
    " import matplotlib.pyplot as plt\n",
    " df[numeric_columns].boxplot()\n",
    " print(\"\\n3. Measure of Shape:\")\n",
    " print(\"   Skewness:\")\n",
    " print(df.skew(numeric_only=True))  # Exclude non-numeric columns\n",
    " print(\"\\n   Kurtosis:\")\n",
    " print(df.kurtosis(numeric_only=True))\n",
    " plt.show()\n"
   ]
  },
  {
   "cell_type": "code",
   "execution_count": null,
   "id": "66ce7ef3-2c4d-466b-8410-d428b30601de",
   "metadata": {},
   "outputs": [],
   "source": [
    "import matplotlib.pyplot as plt\n",
    "df[nm].bocplot"
   ]
  },
  {
   "cell_type": "code",
   "execution_count": 30,
   "id": "14ddf079-fc57-40d2-9b64-53fbaf7781eb",
   "metadata": {},
   "outputs": [
    {
     "name": "stdout",
     "output_type": "stream",
     "text": [
      "Height    168.222222\n",
      "Weight     73.888889\n",
      "bmi        26.177778\n",
      "Age        28.333333\n",
      "dtype: float64\n"
     ]
    }
   ],
   "source": [
    "print(df.mean(numeric_only=True))"
   ]
  },
  {
   "cell_type": "code",
   "execution_count": 31,
   "id": "ff6d1a94-148c-48b8-80c9-967119ed4fc1",
   "metadata": {},
   "outputs": [
    {
     "name": "stdout",
     "output_type": "stream",
     "text": [
      "Height    174.0\n",
      "Weight     70.0\n",
      "bmi        26.1\n",
      "Age        28.0\n",
      "dtype: float64\n"
     ]
    }
   ],
   "source": [
    "print(df.median(numeric_only=True))"
   ]
  },
  {
   "cell_type": "code",
   "execution_count": 33,
   "id": "4d39e2b8-0c69-4110-969d-d1f1d741ecc2",
   "metadata": {},
   "outputs": [
    {
     "name": "stdout",
     "output_type": "stream",
     "text": [
      "Height    174.0\n",
      "Weight     70.0\n",
      "bmi        22.3\n",
      "Age        27.0\n",
      "Name: 0, dtype: float64\n"
     ]
    }
   ],
   "source": [
    "print(df.mode(numeric_only=True).iloc[0])"
   ]
  },
  {
   "cell_type": "code",
   "execution_count": 34,
   "id": "1a27b62d-3b1a-4e92-8f0e-b1710d7d8c1c",
   "metadata": {},
   "outputs": [
    {
     "name": "stdout",
     "output_type": "stream",
     "text": [
      "Height    236.194444\n",
      "Weight    115.361111\n",
      "bmi         6.966944\n",
      "Age         5.500000\n",
      "dtype: float64\n"
     ]
    }
   ],
   "source": [
    "print(df.var(numeric_only=True))"
   ]
  },
  {
   "cell_type": "code",
   "execution_count": 35,
   "id": "f3cf0a97-1bec-4f05-975e-0428f9b6a27a",
   "metadata": {},
   "outputs": [
    {
     "name": "stdout",
     "output_type": "stream",
     "text": [
      "Height    15.368619\n",
      "Weight    10.740629\n",
      "bmi        2.639497\n",
      "Age        2.345208\n",
      "dtype: float64\n"
     ]
    }
   ],
   "source": [
    "print(df.std(numeric_only=True))"
   ]
  },
  {
   "cell_type": "code",
   "execution_count": 41,
   "id": "7f40ac41-da3c-45e0-aac3-2b6f7d5be731",
   "metadata": {},
   "outputs": [],
   "source": [
    "nm = df.select_dtypes(include=[\"number\"]).columns"
   ]
  },
  {
   "cell_type": "code",
   "execution_count": 43,
   "id": "f62f95dc-7f4c-47fe-a1c1-e1002a7777d0",
   "metadata": {},
   "outputs": [
    {
     "name": "stdout",
     "output_type": "stream",
     "text": [
      "Height    42.0\n",
      "Weight    29.0\n",
      "bmi        7.8\n",
      "Age        7.0\n",
      "dtype: float64\n"
     ]
    }
   ],
   "source": [
    "print(df[nm].max()-df[nm].min())"
   ]
  },
  {
   "cell_type": "code",
   "execution_count": 46,
   "id": "bce60c51-6278-44c8-9c2c-3cd02551114c",
   "metadata": {},
   "outputs": [
    {
     "name": "stdout",
     "output_type": "stream",
     "text": [
      "Height    177.0\n",
      "Weight     80.0\n",
      "bmi        27.5\n",
      "Age        30.0\n",
      "Name: 0.75, dtype: float64\n"
     ]
    }
   ],
   "source": [
    "print(df[nm].quantile(0.75))"
   ]
  },
  {
   "cell_type": "code",
   "execution_count": 47,
   "id": "d043b28c-1eb8-4f69-80f7-d3529f053671",
   "metadata": {},
   "outputs": [
    {
     "name": "stdout",
     "output_type": "stream",
     "text": [
      "Height    154.0\n",
      "Weight     65.0\n",
      "bmi        24.4\n",
      "Age        27.0\n",
      "Name: 0.25, dtype: float64\n"
     ]
    }
   ],
   "source": [
    "print(df[nm].quantile(0.25))"
   ]
  },
  {
   "cell_type": "code",
   "execution_count": 49,
   "id": "a289ecd2-10e4-4463-b0cd-8cd241ca7030",
   "metadata": {},
   "outputs": [
    {
     "name": "stdout",
     "output_type": "stream",
     "text": [
      "Height    23.0\n",
      "Weight    15.0\n",
      "bmi        3.1\n",
      "Age        3.0\n",
      "dtype: float64\n"
     ]
    }
   ],
   "source": [
    "print(df[nm].quantile(0.75) - (df[nm].quantile(0.25)))"
   ]
  },
  {
   "cell_type": "code",
   "execution_count": 50,
   "id": "8461bb43-69ec-4266-9bb4-a90c1a835a05",
   "metadata": {},
   "outputs": [
    {
     "name": "stdout",
     "output_type": "stream",
     "text": [
      "Height   -0.213215\n",
      "Weight    0.291925\n",
      "bmi       0.182533\n",
      "Age       0.232583\n",
      "dtype: float64\n"
     ]
    }
   ],
   "source": [
    "print(df.skew(numeric_only=True))"
   ]
  },
  {
   "cell_type": "code",
   "execution_count": 51,
   "id": "7ba9652f-a51f-4a6f-8d68-cb88d73fe807",
   "metadata": {},
   "outputs": [
    {
     "name": "stdout",
     "output_type": "stream",
     "text": [
      "Height   -1.430503\n",
      "Weight   -1.472015\n",
      "bmi      -0.767407\n",
      "Age      -1.041322\n",
      "dtype: float64\n"
     ]
    }
   ],
   "source": [
    "print(df.kurtosis(numeric_only=True))"
   ]
  },
  {
   "cell_type": "code",
   "execution_count": null,
   "id": "0cd9cc08-b85b-40e8-8ea0-f84204cc3488",
   "metadata": {},
   "outputs": [],
   "source": []
  }
 ],
 "metadata": {
  "kernelspec": {
   "display_name": "Python 3 (ipykernel)",
   "language": "python",
   "name": "python3"
  },
  "language_info": {
   "codemirror_mode": {
    "name": "ipython",
    "version": 3
   },
   "file_extension": ".py",
   "mimetype": "text/x-python",
   "name": "python",
   "nbconvert_exporter": "python",
   "pygments_lexer": "ipython3",
   "version": "3.10.9"
  }
 },
 "nbformat": 4,
 "nbformat_minor": 5
}
